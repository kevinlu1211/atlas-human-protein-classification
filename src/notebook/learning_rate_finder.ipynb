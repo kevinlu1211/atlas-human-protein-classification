{
 "cells": [
  {
   "cell_type": "code",
   "execution_count": 1,
   "metadata": {},
   "outputs": [],
   "source": [
    "%load_ext autoreload\n",
    "%autoreload 2"
   ]
  },
  {
   "cell_type": "code",
   "execution_count": 2,
   "metadata": {},
   "outputs": [
    {
     "name": "stdout",
     "output_type": "stream",
     "text": [
      "env: CUDA_DEVICE_ORDER=PCI_BUS_ID\n",
      "env: CUDA_VISIBLE_DEVICES=1\n"
     ]
    }
   ],
   "source": [
    "%env CUDA_DEVICE_ORDER=PCI_BUS_ID\n",
    "%env CUDA_VISIBLE_DEVICES=1"
   ]
  },
  {
   "cell_type": "code",
   "execution_count": 3,
   "metadata": {},
   "outputs": [],
   "source": [
    "from pathlib import Path\n",
    "import sys\n",
    "import yaml\n",
    "import matplotlib.pyplot as plt\n",
    "sys.path.append(\"../../\")"
   ]
  },
  {
   "cell_type": "code",
   "execution_count": 4,
   "metadata": {},
   "outputs": [],
   "source": [
    "from pytorch_toolbox.core.pipeline import PipelineGraph\n",
    "from pytorch_toolbox.core.vision.utils import tensor2img\n",
    "from src.train_with_template import lookups\n",
    "from src.image import plot_rgby"
   ]
  },
  {
   "cell_type": "markdown",
   "metadata": {},
   "source": [
    "#### Load the configuration file needed to construct the DAG for the pipeline"
   ]
  },
  {
   "cell_type": "code",
   "execution_count": 5,
   "metadata": {},
   "outputs": [],
   "source": [
    "CONFIG_FILE = Path(\"../configs/densenet121_two_input_fc_with_tta_template.yml\")"
   ]
  },
  {
   "cell_type": "code",
   "execution_count": 6,
   "metadata": {},
   "outputs": [],
   "source": [
    "with CONFIG_FILE.open(\"r\") as f:\n",
    "    config = yaml.load(f)"
   ]
  },
  {
   "cell_type": "code",
   "execution_count": 7,
   "metadata": {},
   "outputs": [],
   "source": [
    "pipeline_graph = PipelineGraph.create_pipeline_graph_from_config(config)"
   ]
  },
  {
   "cell_type": "code",
   "execution_count": 8,
   "metadata": {},
   "outputs": [
    {
     "data": {
      "text/plain": [
       "['CreateLovaszHingeFlatLoss',\n",
       " 'CreateSoftF1Loss',\n",
       " 'CreateFocalLoss',\n",
       " 'CreateFocalLossMetric',\n",
       " 'CreateF1SoftMetric',\n",
       " 'CreateAccuracyMetric',\n",
       " 'CreateModel',\n",
       " 'CreateResultRecorder',\n",
       " 'CreateFiveCropTTAPredictionCallback',\n",
       " 'CreateGradientClippingLearnerCallback',\n",
       " 'CreateDeterminePhaseCallback',\n",
       " 'CreateLabelExtractorCallback',\n",
       " 'CreateCallbacksForInference',\n",
       " 'CreateLearnerForInference',\n",
       " 'CreateCallbacks',\n",
       " 'CreateTimeStampedSavePath',\n",
       " 'RunRecordResults',\n",
       " 'SaveConfiguration',\n",
       " 'CreateTensorBoardRecorderLearnerCallback',\n",
       " 'CreateCSVLoggerLearnerCallback',\n",
       " 'CreateSaveModelCallback',\n",
       " 'CreateTrainingScheme',\n",
       " 'CreateSamplerFunction',\n",
       " 'CreateSampler',\n",
       " 'CreateDenormalizeFunction',\n",
       " 'CreateOutputRecorderLearnerCallback',\n",
       " 'CreateLearnerCallbacks',\n",
       " 'CreateLearner',\n",
       " 'CreateNormalizeFunction',\n",
       " 'CreateFiveCropTTAFunction',\n",
       " 'CreateTestAugmentationFunction',\n",
       " 'CreateAugmentationFunction',\n",
       " 'CreateOpenImageFunction',\n",
       " 'CreateTestingDataset',\n",
       " 'CreateDataBunchForInference',\n",
       " 'CreateInference',\n",
       " 'CreateValidationDataset',\n",
       " 'CreateTrainingDataset',\n",
       " 'LoadTrainingData',\n",
       " 'CreateDataSplitter',\n",
       " 'LoadTestingData',\n",
       " 'CreateDataBunch',\n",
       " 'RunTrainingLoop',\n",
       " 'CalculateMeanAndStdForDataset']"
      ]
     },
     "execution_count": 8,
     "metadata": {},
     "output_type": "execute_result"
    }
   ],
   "source": [
    "pipeline_graph.sorted_node_names"
   ]
  },
  {
   "cell_type": "markdown",
   "metadata": {},
   "source": [
    "#### Get the nodes needed to create the learner"
   ]
  },
  {
   "cell_type": "code",
   "execution_count": 9,
   "metadata": {},
   "outputs": [],
   "source": [
    "pipeline_graph.run(lookups, to_node=\"CreateDataBunch\")"
   ]
  },
  {
   "cell_type": "code",
   "execution_count": 10,
   "metadata": {},
   "outputs": [],
   "source": [
    "create_data_splitter = pipeline_graph.get_node_output(\"CreateDataSplitter\")\n",
    "create_data_bunch = pipeline_graph.get_node_output(\"CreateDataBunch\")\n",
    "create_learner = pipeline_graph.get_node_output(\"CreateLearner\")\n",
    "normalization_function = pipeline_graph.get_node_output(\"CreateNormalizeFunction\")\n",
    "denormalization_function = pipeline_graph.get_node_output(\"CreateDenormalizeFunction\")"
   ]
  },
  {
   "cell_type": "code",
   "execution_count": 11,
   "metadata": {},
   "outputs": [],
   "source": [
    "train_idx, val_idx = next(iter(create_data_splitter()))"
   ]
  },
  {
   "cell_type": "code",
   "execution_count": 12,
   "metadata": {},
   "outputs": [],
   "source": [
    "data_bunch = create_data_bunch(train_idx, val_idx)"
   ]
  },
  {
   "cell_type": "markdown",
   "metadata": {},
   "source": [
    "#### Uncomment below to see the output of the data loader"
   ]
  },
  {
   "cell_type": "code",
   "execution_count": 13,
   "metadata": {},
   "outputs": [],
   "source": [
    "# train_image_batch, _ = next(iter(data_bunch.train_dl))\n",
    "# train_image = train_image_batch[0]\n",
    "# plot_rgby(tensor2img(train_image, denormalize_fn=denormalization_function, scale_factor=1.0))"
   ]
  },
  {
   "cell_type": "code",
   "execution_count": 14,
   "metadata": {},
   "outputs": [],
   "source": [
    "# five_crop_images, _ = next(iter(data_bunch.valid_dl))\n",
    "# five_crop_image = five_crop_images[0]\n",
    "# for crop in five_crop_image:\n",
    "#     plot_rgby(tensor2img(crop, denormalize_fn=denormalization_function, scale_factor=1.0))"
   ]
  },
  {
   "cell_type": "markdown",
   "metadata": {},
   "source": [
    "#### Find the optimal learning rate"
   ]
  },
  {
   "cell_type": "code",
   "execution_count": 15,
   "metadata": {},
   "outputs": [],
   "source": [
    "N_ITERS = 333"
   ]
  },
  {
   "cell_type": "code",
   "execution_count": 16,
   "metadata": {},
   "outputs": [
    {
     "name": "stdout",
     "output_type": "stream",
     "text": [
      "LR Finder is complete, type {learner_name}.recorder.plot() to see the graph.\n"
     ]
    },
    {
     "data": {
      "image/png": "[encoded data removed]",
      "text/plain": [
       "<Figure size 432x288 with 1 Axes>"
      ]
     },
     "metadata": {
      "needs_background": "light"
     },
     "output_type": "display_data"
    }
   ],
   "source": [
    "learner = create_learner(data_bunch)\n",
    "learner.lr_find(num_it=N_ITERS)\n",
    "learner.recorder.plot()"
   ]
  },
  {
   "cell_type": "code",
   "execution_count": 18,
   "metadata": {},
   "outputs": [
    {
     "name": "stdout",
     "output_type": "stream",
     "text": [
      "1.7387624002162505e-07 tensor(14.0311)\n",
      "1.8376562003881712e-07 tensor(14.0956)\n",
      "1.9421746814890257e-07 tensor(14.0939)\n",
      "2.052637752709252e-07 tensor(14.1385)\n",
      "2.1693835183851848e-07 tensor(14.1345)\n",
      "2.2927693128656491e-07 tensor(14.1202)\n",
      "2.4231727942375993e-07 tensor(14.0693)\n",
      "2.5609931002584584e-07 tensor(13.9869)\n",
      "2.7066520700332413e-07 tensor(13.9724)\n",
      "2.860595535175742e-07 tensor(13.9869)\n",
      "3.0232946844057774e-07 tensor(13.9981)\n",
      "3.1952475057592117e-07 tensor(13.9895)\n",
      "3.3769803108250907e-07 tensor(13.9890)\n",
      "3.569049345675229e-07 tensor(13.9565)\n",
      "3.772042493416998e-07 tensor(13.9838)\n",
      "3.98658107358044e-07 tensor(13.8995)\n",
      "4.213321743847288e-07 tensor(13.9089)\n",
      "4.4529585099426546e-07 tensor(13.9172)\n",
      "4.706224849841282e-07 tensor(13.9683)\n",
      "4.973895958790064e-07 tensor(13.9327)\n",
      "5.256791122018422e-07 tensor(13.9473)\n",
      "5.555776222398876e-07 tensor(13.9841)\n",
      "5.871766390733256e-07 tensor(13.9750)\n",
      "6.205728806776502e-07 tensor(13.9546)\n",
      "6.558685659571431e-07 tensor(13.9958)\n",
      "6.931717276155406e-07 tensor(14.0309)\n",
      "7.32596542821523e-07 tensor(14.0414)\n",
      "7.742636826811268e-07 tensor(14.0418)\n",
      "8.183006815867392e-07 tensor(13.9983)\n",
      "8.648423275731722e-07 tensor(13.9564)\n",
      "9.14031074875623e-07 tensor(13.9415)\n",
      "9.660174799522644e-07 tensor(13.9627)\n",
      "1.0209606623060464e-06 tensor(13.9043)\n",
      "1.079028791516184e-06 tensor(13.8566)\n",
      "1.1403996019700324e-06 tensor(13.8533)\n",
      "1.2052609368708425e-06 tensor(13.8388)\n",
      "1.2738113231864784e-06 tensor(13.8297)\n",
      "1.3462605792989103e-06 tensor(13.8482)\n",
      "1.4228304572143527e-06 tensor(13.8130)\n",
      "1.5037553212997376e-06 tensor(13.8202)\n",
      "1.5892828656229779e-06 tensor(13.7945)\n",
      "1.679674872092653e-06 tensor(13.7901)\n",
      "1.775208011717635e-06 tensor(13.7695)\n",
      "1.8761746914391202e-06 tensor(13.7521)\n",
      "1.9828839491270713e-06 tensor(13.7583)\n",
      "2.095662399480433e-06 tensor(13.7674)\n",
      "2.2148552337263603e-06 tensor(13.7453)\n",
      "2.340827276178293e-06 tensor(13.7429)\n",
      "2.4739641008868127e-06 tensor(13.7226)\n",
      "2.614673211801092e-06 tensor(13.7484)\n",
      "2.76338529005317e-06 tensor(13.7459)\n",
      "2.9205555121827465e-06 tensor(13.7171)\n",
      "3.086664943337273e-06 tensor(13.7242)\n",
      "3.2622220097116694e-06 tensor(13.6810)\n",
      "3.447764054734464e-06 tensor(13.7152)\n",
      "3.6438589837635447e-06 tensor(13.7392)\n",
      "3.851107002325571e-06 tensor(13.7464)\n",
      "4.0701424532194365e-06 tensor(13.7298)\n",
      "4.301635758106795e-06 tensor(13.7261)\n",
      "4.5462954695323996e-06 tensor(13.7081)\n",
      "4.804870439655131e-06 tensor(13.6977)\n",
      "5.078152112327673e-06 tensor(13.7246)\n",
      "5.366976945540476e-06 tensor(13.7494)\n",
      "5.672228971644544e-06 tensor(13.7154)\n",
      "5.994842503189409e-06 tensor(13.7171)\n",
      "6.33580499265825e-06 tensor(13.7439)\n",
      "6.6961600548532185e-06 tensor(13.7547)\n",
      "7.077010661181888e-06 tensor(13.7826)\n",
      "7.47952251562182e-06 tensor(13.7729)\n",
      "7.904927622696424e-06 tensor(13.7466)\n",
      "8.354528058382867e-06 tensor(13.7626)\n",
      "8.829699955494092e-06 tensor(13.7910)\n",
      "9.331897715733238e-06 tensor(13.7856)\n",
      "9.86265846131282e-06 tensor(13.7995)\n",
      "1.0423606739764011e-05 tensor(13.7933)\n",
      "1.1016459496336568e-05 tensor(13.7845)\n",
      "1.1643031329208767e-05 tensor(13.7685)\n",
      "1.2305240043592615e-05 tensor(13.7773)\n",
      "1.3005112521734086e-05 tensor(13.7496)\n",
      "1.3744790926775379e-05 tensor(13.7590)\n",
      "1.4526539259467812e-05 tensor(13.7524)\n",
      "1.5352750287804228e-05 tensor(13.7550)\n",
      "1.6225952870780873e-05 tensor(13.7578)\n",
      "1.7148819698705392e-05 tensor(13.7778)\n",
      "1.8124175473742376e-05 tensor(13.7871)\n",
      "1.9155005555735277e-05 tensor(13.7764)\n",
      "2.0244465099768037e-05 tensor(13.7699)\n",
      "2.1395888713434215e-05 tensor(13.7718)\n",
      "2.261280066337277e-05 tensor(13.7802)\n",
      "2.3898925662310502e-05 tensor(13.7473)\n",
      "2.5258200269627844e-05 tensor(13.7546)\n",
      "2.6694784940343208e-05 tensor(13.7702)\n",
      "2.8213076759394707e-05 tensor(13.7697)\n",
      "2.9817722900196734e-05 tensor(13.7953)\n",
      "3.151363484866479e-05 tensor(13.8206)\n",
      "3.3306003436245885e-05 tensor(13.7966)\n",
      "3.520031472796679e-05 tensor(13.7823)\n",
      "3.720236681413066e-05 tensor(13.8170)\n",
      "3.93182875570577e-05 tensor(13.8163)\n",
      "4.155455334718875e-05 tensor(13.7775)\n",
      "4.391800892596086e-05 tensor(13.7767)\n",
      "4.641588833612777e-05 tensor(13.7714)\n",
      "4.90558370636505e-05 tensor(13.7818)\n",
      "5.184593543892913e-05 tensor(13.7552)\n",
      "5.479472336900287e-05 tensor(13.7599)\n",
      "5.7911226476417584e-05 tensor(13.7493)\n",
      "6.120498372476696e-05 tensor(13.7484)\n",
      "6.468607661546328e-05 tensor(13.7509)\n",
      "6.836516004510237e-05 tensor(13.7480)\n",
      "7.225349491787213e-05 tensor(13.7268)\n",
      "7.636298261282242e-05 tensor(13.7415)\n",
      "8.070620141149508e-05 tensor(13.7248)\n",
      "8.529644499741025e-05 tensor(13.6904)\n",
      "9.014776314524917e-05 tensor(13.6609)\n",
      "9.527500472427289e-05 tensor(13.6381)\n",
      "0.0001006938631476027 tensor(13.6228)\n",
      "0.00010642092440647244 tensor(13.5997)\n",
      "0.0001124737178364752 tensor(13.5930)\n",
      "0.00011887076977119033 tensor(13.5616)\n",
      "0.00012563166024741202 tensor(13.5467)\n",
      "0.0001327770829355429 tensor(13.5540)\n",
      "0.0001403289084785873 tensor(13.5548)\n",
      "0.00014831025143361044 tensor(13.5546)\n",
      "0.00015674554102055948 tensor(13.5542)\n",
      "0.00016566059589499135 tensor(13.5510)\n",
      "0.0001750827031735725 tensor(13.5673)\n",
      "0.0001850407019542302 tensor(13.5746)\n",
      "0.0001955650715865949 tensor(13.5506)\n",
      "0.00020668802496290816 tensor(13.5428)\n",
      "0.0002184436071149426 tensor(13.5396)\n",
      "0.00023086779941871696 tensor(13.5278)\n",
      "0.000243998629725955 tensor(13.5212)\n",
      "0.00025787628875938005 tensor(13.5375)\n",
      "0.00027254325312810277 tensor(13.5434)\n",
      "0.00028804441533962976 tensor(13.5141)\n",
      "0.0003044272212064303 tensor(13.4942)\n",
      "0.00032174181506763714 tensor(13.4651)\n",
      "0.0003400411932703706 tensor(13.4721)\n",
      "0.00035938136638046257 tensor(13.4605)\n",
      "0.0003798215306190736 tensor(13.4363)\n",
      "0.00040142424904993215 tensor(13.4216)\n",
      "0.0004242556430717777 tensor(13.4130)\n",
      "0.00044838559480211857 tensor(13.3815)\n",
      "0.0004738879609717655 tensor(13.3507)\n",
      "0.0005008407989848212 tensor(13.3296)\n",
      "0.0005293266058360561 tensor(13.3016)\n",
      "0.0005594325706169377 tensor(13.2780)\n",
      "0.0005912508413831875 tensor(13.2713)\n",
      "0.0006248788072006894 tensor(13.2302)\n",
      "0.0006604193962330305 tensor(13.2125)\n",
      "0.000697981390783066 tensor(13.2059)\n",
      "0.000737679760252773 tensor(13.1882)\n",
      "0.0007796360130405237 tensor(13.1578)\n",
      "0.000823978568452852 tensor(13.1424)\n",
      "0.0008708431497690724 tensor(13.1097)\n",
      "0.000920373199661822 tensor(13.0716)\n",
      "0.0009727203192450537 tensor(13.0357)\n",
      "0.0010280447320933097 tensor(12.9911)\n",
      "0.0010865157746525371 tensor(12.9568)\n",
      "0.0011483124145435111 tensor(12.9097)\n",
      "0.0012136237983442417 tensor(12.8860)\n",
      "0.0012826498305280598 tensor(12.8265)\n",
      "0.001355601785329369 tensor(12.7719)\n",
      "0.0014327029534098293 tensor(12.7037)\n",
      "0.0015141893253043518 tensor(12.6261)\n",
      "0.0016003103137387017 tensor(12.5624)\n",
      "0.001691329517029647 tensor(12.4979)\n",
      "0.0017875255259042354 tensor(12.4214)\n",
      "0.0018891927762076683 tensor(12.3509)\n",
      "0.001996642450109793 tensor(12.2616)\n",
      "0.002110203428568596 tensor(12.1779)\n",
      "0.002230223297965936 tensor(12.0778)\n",
      "0.002357069413996728 tensor(11.9623)\n",
      "0.002491130026067791 tensor(11.8456)\n",
      "0.00263281546564802 tensor(11.7248)\n",
      "0.0027825594022071257 tensor(11.5829)\n",
      "0.0029408201705870608 tensor(11.4717)\n",
      "0.003108082173869064 tensor(11.3273)\n",
      "0.003284857366030047 tensor(11.2022)\n",
      "0.0034716868189265592 tensor(11.0557)\n",
      "0.003669142378402494 tensor(10.9129)\n",
      "0.0038778284145894533 tensor(10.7720)\n",
      "0.0040983836717572615 tensor(10.6305)\n",
      "0.004331483223376402 tensor(10.5144)\n",
      "0.004577840538376616 tensor(10.4007)\n",
      "0.004838209664925957 tensor(10.3132)\n",
      "0.0051133875384143206 tensor(10.2088)\n",
      "0.005404216420705914 tensor(10.0962)\n",
      "0.0057115864781264345 tensor(10.0539)\n",
      "0.006036438506075863 tensor(9.9450)\n",
      "0.006379766808606282 tensor(9.8577)\n",
      "0.006742622241778348 tensor(9.7815)\n",
      "0.0071261154301117445 tensor(9.7034)\n",
      "0.007531420165974376 tensor(9.6192)\n",
      "0.007959777002314978 tensor(9.5457)\n",
      "0.008412497049736118 tensor(9.5174)\n",
      "0.008890965989529166 tensor(9.4028)\n",
      "0.009396648314954691 tensor(9.2946)\n",
      "0.009931091813749801 tensor(9.2298)\n",
      "0.010495932305582266 tensor(9.1220)\n",
      "0.011092898648952227 tensor(9.0464)\n",
      "0.011723818032865997 tensor(8.9468)\n",
      "0.012390621569479156 tensor(8.8865)\n",
      "0.013095350204826677 tensor(8.8033)\n",
      "0.0138401609657313 tensor(8.7512)\n",
      "0.014627333562011298 tensor(8.7919)\n",
      "0.015459277364194786 tensor(8.7149)\n",
      "0.016338538778098603 tensor(8.7383)\n",
      "0.01726780903884356 tensor(8.7545)\n",
      "0.018249932448161543 tensor(8.6850)\n",
      "0.019287915080207777 tensor(8.6294)\n",
      "0.020384933982524642 tensor(8.6104)\n",
      "0.021544346900318822 tensor(8.5703)\n",
      "0.0227697025538168 tensor(8.5668)\n",
      "0.024064751500154264 tensor(8.5592)\n",
      "0.02543345761304648 tensor(8.5853)\n",
      "0.02688001021537607 tensor(8.6486)\n",
      "0.02840883690183301 tensor(8.7510)\n",
      "0.03002461709085549 tensor(8.8920)\n",
      "0.031732296347349795 tensor(9.0217)\n",
      "0.03353710152002928 tensor(9.0004)\n",
      "0.035444556739704355 tensor(8.9876)\n",
      "0.03746050032748989 tensor(8.9654)\n",
      "0.03959110266468458 tensor(8.9658)\n",
      "0.04184288507901584 tensor(8.9489)\n",
      "0.04422273980505897 tensor(8.9432)\n",
      "0.046737951079924636 tensor(8.9679)\n",
      "0.049396217438783155 tensor(9.0154)\n",
      "0.05220567527846975 tensor(9.2679)\n",
      "0.05517492376129129 tensor(9.2476)\n",
      "0.05831305113526218 tensor(9.2219)\n",
      "0.06162966255132942 tensor(9.3065)\n",
      "0.0651349094627281 tensor(9.7627)\n",
      "0.06883952069645496 tensor(9.9231)\n",
      "0.07275483529196232 tensor(10.0356)\n",
      "0.07689283720758305 tensor(10.0018)\n",
      "0.08126619200091945 tensor(10.1684)\n",
      "0.08588828559546259 tensor(10.2436)\n",
      "0.09077326525210223 tensor(10.2980)\n",
      "0.09593608287093147 tensor(10.4431)\n",
      "0.10139254075588142 tensor(10.6482)\n",
      "0.10715933998226712 tensor(10.8573)\n",
      "0.11325413151528127 tensor(11.2824)\n",
      "0.11969557023590428 tensor(11.4674)\n",
      "0.12650337203959036 tensor(11.5967)\n",
      "0.1336983741824945 tensor(11.7756)\n",
      "0.14130259905995335 tensor(12.2103)\n",
      "0.14933932161242533 tensor(12.9363)\n",
      "0.15783314056521164 tensor(13.4244)\n",
      "0.1668100537200059 tensor(13.7312)\n",
      "0.17629753752872038 tensor(14.1836)\n",
      "0.18632463119315598 tensor(14.8441)\n",
      "0.19692202554791735 tensor(15.6640)\n",
      "0.2081221569986337 tensor(16.7489)\n",
      "0.21995930680300746 tensor(17.8401)\n",
      "0.232469705998565 tensor(18.7851)\n",
      "0.245691646298279 tensor(19.8202)\n",
      "0.2596655972934872 tensor(22.0158)\n",
      "0.2744343303228362 tensor(23.3162)\n",
      "0.29004304938639913 tensor(24.8248)\n"
     ]
    }
   ],
   "source": [
    "for lr, loss in zip(learner.recorder.lrs[10:-5], learner.recorder.losses[10:-5]):\n",
    "    print(lr, loss)"
   ]
  },
  {
   "cell_type": "code",
   "execution_count": null,
   "metadata": {},
   "outputs": [],
   "source": []
  }
 ],
 "metadata": {
  "kernelspec": {
   "display_name": "Python 3",
   "language": "python",
   "name": "python3"
  },
  "language_info": {
   "codemirror_mode": {
    "name": "ipython",
    "version": 3
   },
   "file_extension": ".py",
   "mimetype": "text/x-python",
   "name": "python",
   "nbconvert_exporter": "python",
   "pygments_lexer": "ipython3",
   "version": "3.7.2"
  }
 },
 "nbformat": 4,
 "nbformat_minor": 2
}

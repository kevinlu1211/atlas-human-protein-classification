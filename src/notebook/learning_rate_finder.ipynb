{
 "cells": [
  {
   "cell_type": "code",
   "execution_count": 1,
   "metadata": {},
   "outputs": [],
   "source": [
    "%load_ext autoreload\n",
    "%autoreload 2"
   ]
  },
  {
   "cell_type": "code",
   "execution_count": 2,
   "metadata": {},
   "outputs": [
    {
     "name": "stdout",
     "output_type": "stream",
     "text": [
      "env: CUDA_DEVICE_ORDER=PCI_BUS_ID\n",
      "env: CUDA_VISIBLE_DEVICES=1\n"
     ]
    }
   ],
   "source": [
    "%env CUDA_DEVICE_ORDER=PCI_BUS_ID\n",
    "%env CUDA_VISIBLE_DEVICES=1"
   ]
  },
  {
   "cell_type": "code",
   "execution_count": 3,
   "metadata": {},
   "outputs": [],
   "source": [
    "from pathlib import Path\n",
    "import sys\n",
    "import yaml\n",
    "sys.path.append(\"../../\")"
   ]
  },
  {
   "cell_type": "code",
   "execution_count": 4,
   "metadata": {},
   "outputs": [],
   "source": [
    "from pytorch_toolbox.pipeline import PipelineGraph\n",
    "from src.train_with_template import lookups"
   ]
  },
  {
   "cell_type": "code",
   "execution_count": 5,
   "metadata": {},
   "outputs": [],
   "source": [
    "CONFIG_FILE = Path(\"../configs/se_resnext50_32x4d_two_input_fc_template.yml\")"
   ]
  },
  {
   "cell_type": "code",
   "execution_count": 6,
   "metadata": {},
   "outputs": [],
   "source": [
    "with CONFIG_FILE.open(\"r\") as f:\n",
    "    config = yaml.load(f)"
   ]
  },
  {
   "cell_type": "code",
   "execution_count": 7,
   "metadata": {},
   "outputs": [],
   "source": [
    "pipeline_graph = PipelineGraph.create_pipeline_graph_from_config(config)"
   ]
  },
  {
   "cell_type": "code",
   "execution_count": 8,
   "metadata": {},
   "outputs": [
    {
     "data": {
      "text/plain": [
       "['LoadTrainingData',\n",
       " 'CreateDataSplitter',\n",
       " 'LoadTestingData',\n",
       " 'CreateDenormalizeFunction',\n",
       " 'CreateNormalizeFunction',\n",
       " 'CreateTestAugmentationFunction',\n",
       " 'CreateAugmentationFunction',\n",
       " 'CreateOpenImageFunction',\n",
       " 'CreateTestingDataset',\n",
       " 'CreateValidationDataset',\n",
       " 'CreateTrainingDataset',\n",
       " 'CreateFocalLoss',\n",
       " 'CreateF1SoftMetric',\n",
       " 'CreateAccuracyMetric',\n",
       " 'CreateModel',\n",
       " 'CreateGradientClippingLearnerCallback',\n",
       " 'CreateNameExtractionCallback',\n",
       " 'CreateCallbacks',\n",
       " 'CreateTimeStampedSavePath',\n",
       " 'CreateOutputRecorderLearnerCallback',\n",
       " 'CreateCSVLoggerLearnerCallback',\n",
       " 'CreateLearnerCallbacks',\n",
       " 'CreateLearner',\n",
       " 'SaveConfiguration',\n",
       " 'CreateResultRecorder',\n",
       " 'RunRecordResults',\n",
       " 'CreateTrainingScheme',\n",
       " 'CreateSamplerFunction',\n",
       " 'CreateSampler',\n",
       " 'CreateDataBunch',\n",
       " 'RunTrainingLoop']"
      ]
     },
     "execution_count": 8,
     "metadata": {},
     "output_type": "execute_result"
    }
   ],
   "source": [
    "pipeline_graph.sorted_node_names"
   ]
  },
  {
   "cell_type": "code",
   "execution_count": 9,
   "metadata": {},
   "outputs": [],
   "source": [
    "pipeline_graph.run(lookups, to_node=\"CreateDataBunch\")"
   ]
  },
  {
   "cell_type": "code",
   "execution_count": 10,
   "metadata": {},
   "outputs": [],
   "source": [
    "create_data_splitter = pipeline_graph.get_node(\"CreateDataSplitter\")\n",
    "create_data_bunch = pipeline_graph.get_node(\"CreateDataBunch\")\n",
    "create_learner = pipeline_graph.get_node(\"CreateLearner\")"
   ]
  },
  {
   "cell_type": "code",
   "execution_count": 11,
   "metadata": {},
   "outputs": [],
   "source": [
    "train_idx, val_idx = next(iter(create_data_splitter['output_lookup']['DataSplitter']()))"
   ]
  },
  {
   "cell_type": "code",
   "execution_count": 12,
   "metadata": {},
   "outputs": [
    {
     "name": "stdout",
     "output_type": "stream",
     "text": [
      "Weighted sampled proportions:\n",
      "[(0, 0.25773398155617083),\n",
      " (1, 0.024155747890732302),\n",
      " (2, 0.07013451350585363),\n",
      " (3, 0.03115393838976215),\n",
      " (4, 0.03520896466022804),\n",
      " (5, 0.05116745514399704),\n",
      " (6, 0.019206871743443283),\n",
      " (7, 0.05491726438335259),\n",
      " (8, 0.001220868124441344),\n",
      " (9, 0.0008938498768231267),\n",
      " (10, 0.0004796267631733851),\n",
      " (11, 0.021103577579628944),\n",
      " (12, 0.013625760317425713),\n",
      " (13, 0.010682596088861759),\n",
      " (14, 0.021125378796136823),\n",
      " (15, 0.0004578255466655039),\n",
      " (16, 0.009810547428546514),\n",
      " (17, 0.004425646951099872),\n",
      " (18, 0.01822581700058863),\n",
      " (19, 0.02984586539928928),\n",
      " (20, 0.0036408031568161505),\n",
      " (21, 0.07347009963155944),\n",
      " (22, 0.014781224792343412),\n",
      " (23, 0.05818744685953476),\n",
      " (24, 0.006017135756175194),\n",
      " (25, 0.1613726045913362),\n",
      " (26, 0.006758377117443154),\n",
      " (27, 0.00019621094857093027)]\n"
     ]
    }
   ],
   "source": [
    "data_bunch = create_data_bunch['output_lookup']['DataBunch'](train_idx, val_idx)"
   ]
  },
  {
   "cell_type": "code",
   "execution_count": 13,
   "metadata": {},
   "outputs": [
    {
     "data": {
      "text/plain": [
       "DataBunch;\n",
       "Train: <src.data.ProteinClassificationDataset object at 0x7f97a3bbcef0>;\n",
       "Valid: <src.data.ProteinClassificationDataset object at 0x7f97a3bbcd68>;\n",
       "Test: <src.data.ProteinClassificationDataset object at 0x7f97a3bbcc50>"
      ]
     },
     "execution_count": 13,
     "metadata": {},
     "output_type": "execute_result"
    }
   ],
   "source": [
    "data_bunch"
   ]
  },
  {
   "cell_type": "code",
   "execution_count": 14,
   "metadata": {},
   "outputs": [],
   "source": [
    "x, y = next(iter(data_bunch.test_dl))"
   ]
  },
  {
   "cell_type": "code",
   "execution_count": 15,
   "metadata": {},
   "outputs": [],
   "source": [
    "learner = create_learner['output_lookup']['LearnerCreator'](data_bunch)"
   ]
  },
  {
   "cell_type": "code",
   "execution_count": 16,
   "metadata": {},
   "outputs": [
    {
     "name": "stdout",
     "output_type": "stream",
     "text": [
      "LR Finder is complete, type {learner_name}.recorder.plot() to see the graph.\n"
     ]
    }
   ],
   "source": [
    "learner.lr_find()"
   ]
  },
  {
   "cell_type": "code",
   "execution_count": 17,
   "metadata": {},
   "outputs": [
    {
     "data": {
      "image/png": "[encoded data removed]",
      "text/plain": [
       "<Figure size 432x288 with 1 Axes>"
      ]
     },
     "metadata": {
      "needs_background": "light"
     },
     "output_type": "display_data"
    }
   ],
   "source": [
    "learner.recorder.plot()"
   ]
  },
  {
   "cell_type": "code",
   "execution_count": 18,
   "metadata": {},
   "outputs": [
    {
     "name": "stdout",
     "output_type": "stream",
     "text": [
      "LR Finder is complete, type {learner_name}.recorder.plot() to see the graph.\n"
     ]
    }
   ],
   "source": [
    "learner.lr_find(num_it=250)"
   ]
  },
  {
   "cell_type": "code",
   "execution_count": 19,
   "metadata": {},
   "outputs": [
    {
     "data": {
      "image/png": "[encoded data removed]",
      "text/plain": [
       "<Figure size 432x288 with 1 Axes>"
      ]
     },
     "metadata": {
      "needs_background": "light"
     },
     "output_type": "display_data"
    }
   ],
   "source": [
    "learner.recorder.plot()"
   ]
  },
  {
   "cell_type": "code",
   "execution_count": 20,
   "metadata": {},
   "outputs": [
    {
     "name": "stdout",
     "output_type": "stream",
     "text": [
      "LR Finder is complete, type {learner_name}.recorder.plot() to see the graph.\n"
     ]
    }
   ],
   "source": [
    "learner.lr_find(num_it=250)"
   ]
  },
  {
   "cell_type": "code",
   "execution_count": 21,
   "metadata": {},
   "outputs": [
    {
     "data": {
      "image/png": "[encoded data removed]",
      "text/plain": [
       "<Figure size 432x288 with 1 Axes>"
      ]
     },
     "metadata": {
      "needs_background": "light"
     },
     "output_type": "display_data"
    }
   ],
   "source": [
    "learner.recorder.plot()"
   ]
  },
  {
   "cell_type": "code",
   "execution_count": null,
   "metadata": {},
   "outputs": [],
   "source": []
  }
 ],
 "metadata": {
  "kernelspec": {
   "display_name": "Python 3",
   "language": "python",
   "name": "python3"
  },
  "language_info": {
   "codemirror_mode": {
    "name": "ipython",
    "version": 3
   },
   "file_extension": ".py",
   "mimetype": "text/x-python",
   "name": "python",
   "nbconvert_exporter": "python",
   "pygments_lexer": "ipython3",
   "version": "3.7.1"
  }
 },
 "nbformat": 4,
 "nbformat_minor": 2
}

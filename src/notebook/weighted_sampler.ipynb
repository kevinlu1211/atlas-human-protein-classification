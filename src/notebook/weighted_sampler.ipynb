{
 "cells": [
  {
   "cell_type": "code",
   "execution_count": 1,
   "metadata": {},
   "outputs": [],
   "source": [
    "%load_ext autoreload\n",
    "%autoreload 2"
   ]
  },
  {
   "cell_type": "code",
   "execution_count": 2,
   "metadata": {},
   "outputs": [],
   "source": [
    "import sys\n",
    "sys.path.append(\"..\")\n",
    "sys.path.append(\"../..\")"
   ]
  },
  {
   "cell_type": "markdown",
   "metadata": {},
   "source": [
    "### First load in the data"
   ]
  },
  {
   "cell_type": "code",
   "execution_count": 3,
   "metadata": {},
   "outputs": [],
   "source": [
    "from pathlib import Path\n",
    "from collections import Counter\n",
    "import random\n",
    "\n",
    "\n",
    "import cv2\n",
    "import numpy as np\n",
    "import pandas as pd\n",
    "import matplotlib.pyplot as plt\n",
    "from tqdm import tqdm_notebook\n",
    "import torch\n",
    "import torch.utils.data\n",
    "\n",
    "\n",
    "from src.data import DataPaths, Image, open_rgby"
   ]
  },
  {
   "cell_type": "markdown",
   "metadata": {},
   "source": [
    "#### Load the training labels"
   ]
  },
  {
   "cell_type": "code",
   "execution_count": 5,
   "metadata": {},
   "outputs": [],
   "source": [
    "kaggle_labels_df = pd.read_csv(DataPaths.TRAIN_LABELS)\n",
    "# kaggle_labels_df = pd.read_csv(\"../data/train.csv\")\n",
    "hpa_labels_df = pd.read_csv(DataPaths.TRAIN_HPA_V18_LABELS)\n",
    "all_labels_df = pd.read_csv(DataPaths.TRAIN_ALL_LABELS)\n",
    "kaggle_labels_df['Target'] = [[int(i) for i in s.split()] for s in kaggle_labels_df['Target']]\n",
    "hpa_labels_df['Target'] = [[int(i) for i in s.split()] for s in hpa_labels_df['Target']]\n",
    "all_labels_df['Target'] = [[int(i) for i in s.split()] for s in all_labels_df['Target']]"
   ]
  },
  {
   "cell_type": "code",
   "execution_count": 6,
   "metadata": {},
   "outputs": [
    {
     "data": {
      "text/html": [
       "<div>\n",
       "<style scoped>\n",
       "    .dataframe tbody tr th:only-of-type {\n",
       "        vertical-align: middle;\n",
       "    }\n",
       "\n",
       "    .dataframe tbody tr th {\n",
       "        vertical-align: top;\n",
       "    }\n",
       "\n",
       "    .dataframe thead th {\n",
       "        text-align: right;\n",
       "    }\n",
       "</style>\n",
       "<table border=\"1\" class=\"dataframe\">\n",
       "  <thead>\n",
       "    <tr style=\"text-align: right;\">\n",
       "      <th></th>\n",
       "      <th>Id</th>\n",
       "      <th>Target</th>\n",
       "    </tr>\n",
       "  </thead>\n",
       "  <tbody>\n",
       "    <tr>\n",
       "      <th>0</th>\n",
       "      <td>00070df0-bbc3-11e8-b2bc-ac1f6b6435d0</td>\n",
       "      <td>[16, 0]</td>\n",
       "    </tr>\n",
       "    <tr>\n",
       "      <th>1</th>\n",
       "      <td>000a6c98-bb9b-11e8-b2b9-ac1f6b6435d0</td>\n",
       "      <td>[7, 1, 2, 0]</td>\n",
       "    </tr>\n",
       "    <tr>\n",
       "      <th>2</th>\n",
       "      <td>000a9596-bbc4-11e8-b2bc-ac1f6b6435d0</td>\n",
       "      <td>[5]</td>\n",
       "    </tr>\n",
       "    <tr>\n",
       "      <th>3</th>\n",
       "      <td>000c99ba-bba4-11e8-b2b9-ac1f6b6435d0</td>\n",
       "      <td>[1]</td>\n",
       "    </tr>\n",
       "    <tr>\n",
       "      <th>4</th>\n",
       "      <td>001838f8-bbca-11e8-b2bc-ac1f6b6435d0</td>\n",
       "      <td>[18]</td>\n",
       "    </tr>\n",
       "  </tbody>\n",
       "</table>\n",
       "</div>"
      ],
      "text/plain": [
       "                                     Id        Target\n",
       "0  00070df0-bbc3-11e8-b2bc-ac1f6b6435d0       [16, 0]\n",
       "1  000a6c98-bb9b-11e8-b2b9-ac1f6b6435d0  [7, 1, 2, 0]\n",
       "2  000a9596-bbc4-11e8-b2bc-ac1f6b6435d0           [5]\n",
       "3  000c99ba-bba4-11e8-b2b9-ac1f6b6435d0           [1]\n",
       "4  001838f8-bbca-11e8-b2bc-ac1f6b6435d0          [18]"
      ]
     },
     "execution_count": 6,
     "metadata": {},
     "output_type": "execute_result"
    }
   ],
   "source": [
    "kaggle_labels_df.head()"
   ]
  },
  {
   "cell_type": "code",
   "execution_count": 27,
   "metadata": {},
   "outputs": [
    {
     "data": {
      "text/html": [
       "<div>\n",
       "<style scoped>\n",
       "    .dataframe tbody tr th:only-of-type {\n",
       "        vertical-align: middle;\n",
       "    }\n",
       "\n",
       "    .dataframe tbody tr th {\n",
       "        vertical-align: top;\n",
       "    }\n",
       "\n",
       "    .dataframe thead th {\n",
       "        text-align: right;\n",
       "    }\n",
       "</style>\n",
       "<table border=\"1\" class=\"dataframe\">\n",
       "  <thead>\n",
       "    <tr style=\"text-align: right;\">\n",
       "      <th></th>\n",
       "      <th>Id</th>\n",
       "      <th>Target</th>\n",
       "    </tr>\n",
       "  </thead>\n",
       "  <tbody>\n",
       "    <tr>\n",
       "      <th>0</th>\n",
       "      <td>10580_1610_C1_1</td>\n",
       "      <td>[13, 25, 0, 2, 21]</td>\n",
       "    </tr>\n",
       "    <tr>\n",
       "      <th>1</th>\n",
       "      <td>10580_1610_C1_2</td>\n",
       "      <td>[13, 25, 0, 2, 21]</td>\n",
       "    </tr>\n",
       "    <tr>\n",
       "      <th>2</th>\n",
       "      <td>10580_1756_B1_1</td>\n",
       "      <td>[13, 25, 0, 2, 21]</td>\n",
       "    </tr>\n",
       "    <tr>\n",
       "      <th>3</th>\n",
       "      <td>10580_1756_B1_2</td>\n",
       "      <td>[13, 25, 0, 2, 21]</td>\n",
       "    </tr>\n",
       "    <tr>\n",
       "      <th>4</th>\n",
       "      <td>10580_1758_B1_1</td>\n",
       "      <td>[13, 25, 0, 2, 21]</td>\n",
       "    </tr>\n",
       "  </tbody>\n",
       "</table>\n",
       "</div>"
      ],
      "text/plain": [
       "                Id              Target\n",
       "0  10580_1610_C1_1  [13, 25, 0, 2, 21]\n",
       "1  10580_1610_C1_2  [13, 25, 0, 2, 21]\n",
       "2  10580_1756_B1_1  [13, 25, 0, 2, 21]\n",
       "3  10580_1756_B1_2  [13, 25, 0, 2, 21]\n",
       "4  10580_1758_B1_1  [13, 25, 0, 2, 21]"
      ]
     },
     "execution_count": 27,
     "metadata": {},
     "output_type": "execute_result"
    }
   ],
   "source": [
    "hpa_labels_df.head()"
   ]
  },
  {
   "cell_type": "code",
   "execution_count": 29,
   "metadata": {},
   "outputs": [
    {
     "data": {
      "text/html": [
       "<div>\n",
       "<style scoped>\n",
       "    .dataframe tbody tr th:only-of-type {\n",
       "        vertical-align: middle;\n",
       "    }\n",
       "\n",
       "    .dataframe tbody tr th {\n",
       "        vertical-align: top;\n",
       "    }\n",
       "\n",
       "    .dataframe thead th {\n",
       "        text-align: right;\n",
       "    }\n",
       "</style>\n",
       "<table border=\"1\" class=\"dataframe\">\n",
       "  <thead>\n",
       "    <tr style=\"text-align: right;\">\n",
       "      <th></th>\n",
       "      <th>Id</th>\n",
       "      <th>Target</th>\n",
       "    </tr>\n",
       "  </thead>\n",
       "  <tbody>\n",
       "    <tr>\n",
       "      <th>0</th>\n",
       "      <td>00070df0-bbc3-11e8-b2bc-ac1f6b6435d0</td>\n",
       "      <td>[16, 0]</td>\n",
       "    </tr>\n",
       "    <tr>\n",
       "      <th>1</th>\n",
       "      <td>000a6c98-bb9b-11e8-b2b9-ac1f6b6435d0</td>\n",
       "      <td>[7, 1, 2, 0]</td>\n",
       "    </tr>\n",
       "    <tr>\n",
       "      <th>2</th>\n",
       "      <td>000a9596-bbc4-11e8-b2bc-ac1f6b6435d0</td>\n",
       "      <td>[5]</td>\n",
       "    </tr>\n",
       "    <tr>\n",
       "      <th>3</th>\n",
       "      <td>000c99ba-bba4-11e8-b2b9-ac1f6b6435d0</td>\n",
       "      <td>[1]</td>\n",
       "    </tr>\n",
       "    <tr>\n",
       "      <th>4</th>\n",
       "      <td>001838f8-bbca-11e8-b2bc-ac1f6b6435d0</td>\n",
       "      <td>[18]</td>\n",
       "    </tr>\n",
       "  </tbody>\n",
       "</table>\n",
       "</div>"
      ],
      "text/plain": [
       "                                     Id        Target\n",
       "0  00070df0-bbc3-11e8-b2bc-ac1f6b6435d0       [16, 0]\n",
       "1  000a6c98-bb9b-11e8-b2b9-ac1f6b6435d0  [7, 1, 2, 0]\n",
       "2  000a9596-bbc4-11e8-b2bc-ac1f6b6435d0           [5]\n",
       "3  000c99ba-bba4-11e8-b2b9-ac1f6b6435d0           [1]\n",
       "4  001838f8-bbca-11e8-b2bc-ac1f6b6435d0          [18]"
      ]
     },
     "execution_count": 29,
     "metadata": {},
     "output_type": "execute_result"
    }
   ],
   "source": [
    "all_labels_df.head()"
   ]
  },
  {
   "cell_type": "markdown",
   "metadata": {},
   "source": [
    "#### Helper function to help us see the proportion of each class"
   ]
  },
  {
   "cell_type": "code",
   "execution_count": 30,
   "metadata": {},
   "outputs": [],
   "source": [
    "from src.data import single_class_counter"
   ]
  },
  {
   "cell_type": "code",
   "execution_count": 191,
   "metadata": {},
   "outputs": [
    {
     "name": "stdout",
     "output_type": "stream",
     "text": [
      "[(0, 0.35373163719428147),\n",
      " (25, 0.262025914694183),\n",
      " (21, 0.17437674766649602),\n",
      " (2, 0.17130479303690285),\n",
      " (23, 0.15838682997912648),\n",
      " (7, 0.15557087156866609),\n",
      " (5, 0.14948603836004884),\n",
      " (4, 0.13658776731912883),\n",
      " (3, 0.130739238312788),\n",
      " (19, 0.12918356898113506),\n",
      " (1, 0.12469378913788351),\n",
      " (11, 0.12152337442400853),\n",
      " (14, 0.12099168996888662),\n",
      " (6, 0.11984955299121737),\n",
      " (18, 0.11776219920444253),\n",
      " (22, 0.1157929975188059),\n",
      " (12, 0.11354810759718012),\n",
      " (13, 0.11057461305186879),\n",
      " (16, 0.11043676893387422),\n",
      " (26, 0.1064589815288882),\n",
      " (24, 0.10634082942775),\n",
      " (17, 0.10413532353983697),\n",
      " (20, 0.10338702689929503),\n",
      " (8, 0.10104367689338743),\n",
      " (9, 0.10088614075853651),\n",
      " (10, 0.10055137647197827),\n",
      " (15, 0.1004135323539837),\n",
      " (27, 0.10021661218542005)]\n"
     ]
    }
   ],
   "source": [
    "pprint(sorted(single_class_counter(kaggle_labels_df['Target'].values, smooth=0.1), key=lambda x: x[1], reverse=True))"
   ]
  },
  {
   "cell_type": "code",
   "execution_count": 185,
   "metadata": {},
   "outputs": [
    {
     "name": "stdout",
     "output_type": "stream",
     "text": [
      "[(25, 0.2553031165940893),\n",
      " (0, 0.24597173423522092),\n",
      " (21, 0.0878989932621286),\n",
      " (23, 0.06466253690934103),\n",
      " (2, 0.06352349493126319),\n",
      " (7, 0.05767933339758698),\n",
      " (5, 0.030009375191665716),\n",
      " (4, 0.02866881040208182),\n",
      " (6, 0.023805977341826497),\n",
      " (19, 0.0191884763999264),\n",
      " (22, 0.016884106859661265),\n",
      " (1, 0.01592906397034986),\n",
      " (3, 0.015490970901858392),\n",
      " (14, 0.014246786587342615),\n",
      " (12, 0.013537075816386433),\n",
      " (11, 0.009646809368182177),\n",
      " (18, 0.008683004617500942),\n",
      " (13, 0.008069674321612883),\n",
      " (16, 0.006659014641070349),\n",
      " (26, 0.003311983597795516),\n",
      " (20, 0.002330655124374622),\n",
      " (17, 0.00206779928327974),\n",
      " (8, 0.0014369452646520228),\n",
      " (10, 0.0013493266509537285),\n",
      " (9, 0.0013318029282140698),\n",
      " (27, 0.0010163759189002113),\n",
      " (24, 0.0009287573052019171),\n",
      " (15, 0.0003679981775328351)]\n"
     ]
    }
   ],
   "source": [
    "pprint(sorted(single_class_counter(hpa_labels_df['Target'].values), key=lambda x: x[1], reverse=True))"
   ]
  },
  {
   "cell_type": "markdown",
   "metadata": {},
   "source": [
    "#### Lets see the class distribution when we do a Random Shuffle Split"
   ]
  },
  {
   "cell_type": "code",
   "execution_count": 40,
   "metadata": {},
   "outputs": [],
   "source": [
    "from sklearn.model_selection import ShuffleSplit"
   ]
  },
  {
   "cell_type": "code",
   "execution_count": 41,
   "metadata": {},
   "outputs": [],
   "source": [
    "train_idx, val_idx = list(ShuffleSplit(n_splits=1, test_size=0.1, random_state=42).split(X=all_labels_df))[0]"
   ]
  },
  {
   "cell_type": "code",
   "execution_count": 42,
   "metadata": {},
   "outputs": [
    {
     "data": {
      "text/plain": [
       "95110"
      ]
     },
     "execution_count": 42,
     "metadata": {},
     "output_type": "execute_result"
    }
   ],
   "source": [
    "len(train_idx)"
   ]
  },
  {
   "cell_type": "code",
   "execution_count": 43,
   "metadata": {},
   "outputs": [
    {
     "data": {
      "text/plain": [
       "10568"
      ]
     },
     "execution_count": 43,
     "metadata": {},
     "output_type": "execute_result"
    }
   ],
   "source": [
    "len(val_idx)"
   ]
  },
  {
   "cell_type": "code",
   "execution_count": 44,
   "metadata": {},
   "outputs": [
    {
     "data": {
      "text/plain": [
       "[(0, 0.24842271293375395),\n",
       " (1, 0.018576936558009113),\n",
       " (2, 0.06610450537895333),\n",
       " (3, 0.02021488851141848),\n",
       " (4, 0.03126937906117717),\n",
       " (5, 0.036068645690096796),\n",
       " (6, 0.0224527487934428),\n",
       " (7, 0.05680929655693063),\n",
       " (8, 0.0013346275175928173),\n",
       " (9, 0.0012200382862843431),\n",
       " (10, 0.00111893014101216),\n",
       " (11, 0.013400199520073337),\n",
       " (12, 0.013494567122327375),\n",
       " (13, 0.008910997869988406),\n",
       " (14, 0.01627167084580334),\n",
       " (15, 0.00037747040901615035),\n",
       " (16, 0.007758365013885518),\n",
       " (17, 0.0027299199223489445),\n",
       " (18, 0.011512847474992585),\n",
       " (19, 0.02218312707271698),\n",
       " (20, 0.0026692550351856345),\n",
       " (21, 0.08380517134460352),\n",
       " (22, 0.01660195745369247),\n",
       " (23, 0.06255897975140877),\n",
       " (24, 0.0025277036318045783),\n",
       " (25, 0.22660357518401683),\n",
       " (26, 0.004246542101431691),\n",
       " (27, 0.0007549408180323007)]"
      ]
     },
     "execution_count": 44,
     "metadata": {},
     "output_type": "execute_result"
    }
   ],
   "source": [
    "single_class_counter(all_labels_df['Target'].iloc[train_idx].values)"
   ]
  },
  {
   "cell_type": "code",
   "execution_count": 45,
   "metadata": {},
   "outputs": [
    {
     "data": {
      "text/plain": [
       "[(0, 0.24781059370658937),\n",
       " (1, 0.019085583137041735),\n",
       " (2, 0.06426284955003926),\n",
       " (3, 0.01993114694691067),\n",
       " (4, 0.029655130760403454),\n",
       " (5, 0.03545328259950474),\n",
       " (6, 0.02379658150631153),\n",
       " (7, 0.059008274445853715),\n",
       " (8, 0.0011475508848221296),\n",
       " (9, 0.0009663586398502144),\n",
       " (10, 0.0009663586398502144),\n",
       " (11, 0.01244186748807151),\n",
       " (12, 0.013951802862837471),\n",
       " (13, 0.008214048438726822),\n",
       " (14, 0.016790481367397476),\n",
       " (15, 0.0004227819049344688),\n",
       " (16, 0.008395240683698738),\n",
       " (17, 0.0024762940146161746),\n",
       " (18, 0.011173521773268105),\n",
       " (19, 0.02301141511143323),\n",
       " (20, 0.002536691429606813),\n",
       " (21, 0.08310684302711845),\n",
       " (22, 0.016065712387509815),\n",
       " (23, 0.06426284955003926),\n",
       " (24, 0.0032010629945038354),\n",
       " (25, 0.22636951138491274),\n",
       " (26, 0.0045902035392885185),\n",
       " (27, 0.000905961224859576)]"
      ]
     },
     "execution_count": 45,
     "metadata": {},
     "output_type": "execute_result"
    }
   ],
   "source": [
    "single_class_counter(all_labels_df['Target'].iloc[val_idx].values)"
   ]
  },
  {
   "cell_type": "markdown",
   "metadata": {},
   "source": [
    "#### Now use multi-label stratified shuffle split"
   ]
  },
  {
   "cell_type": "code",
   "execution_count": 46,
   "metadata": {},
   "outputs": [],
   "source": [
    "from iterstrat.ml_stratifiers import MultilabelStratifiedShuffleSplit\n",
    "import numpy as np"
   ]
  },
  {
   "cell_type": "code",
   "execution_count": 47,
   "metadata": {},
   "outputs": [],
   "source": [
    "def make_one_hot(labels, n_classes=28):\n",
    "    one_hots = []\n",
    "    for label in labels:\n",
    "        one_hot = np.zeros(n_classes)\n",
    "        for label_idx in label:\n",
    "            one_hot[label_idx] = 1\n",
    "        one_hots.append(one_hot.astype(np.float32))\n",
    "    return one_hots"
   ]
  },
  {
   "cell_type": "code",
   "execution_count": 48,
   "metadata": {},
   "outputs": [
    {
     "data": {
      "text/html": [
       "<div>\n",
       "<style scoped>\n",
       "    .dataframe tbody tr th:only-of-type {\n",
       "        vertical-align: middle;\n",
       "    }\n",
       "\n",
       "    .dataframe tbody tr th {\n",
       "        vertical-align: top;\n",
       "    }\n",
       "\n",
       "    .dataframe thead th {\n",
       "        text-align: right;\n",
       "    }\n",
       "</style>\n",
       "<table border=\"1\" class=\"dataframe\">\n",
       "  <thead>\n",
       "    <tr style=\"text-align: right;\">\n",
       "      <th></th>\n",
       "      <th>Id</th>\n",
       "      <th>Target</th>\n",
       "    </tr>\n",
       "  </thead>\n",
       "  <tbody>\n",
       "    <tr>\n",
       "      <th>0</th>\n",
       "      <td>00070df0-bbc3-11e8-b2bc-ac1f6b6435d0</td>\n",
       "      <td>[16, 0]</td>\n",
       "    </tr>\n",
       "    <tr>\n",
       "      <th>1</th>\n",
       "      <td>000a6c98-bb9b-11e8-b2b9-ac1f6b6435d0</td>\n",
       "      <td>[7, 1, 2, 0]</td>\n",
       "    </tr>\n",
       "    <tr>\n",
       "      <th>2</th>\n",
       "      <td>000a9596-bbc4-11e8-b2bc-ac1f6b6435d0</td>\n",
       "      <td>[5]</td>\n",
       "    </tr>\n",
       "    <tr>\n",
       "      <th>3</th>\n",
       "      <td>000c99ba-bba4-11e8-b2b9-ac1f6b6435d0</td>\n",
       "      <td>[1]</td>\n",
       "    </tr>\n",
       "    <tr>\n",
       "      <th>4</th>\n",
       "      <td>001838f8-bbca-11e8-b2bc-ac1f6b6435d0</td>\n",
       "      <td>[18]</td>\n",
       "    </tr>\n",
       "  </tbody>\n",
       "</table>\n",
       "</div>"
      ],
      "text/plain": [
       "                                     Id        Target\n",
       "0  00070df0-bbc3-11e8-b2bc-ac1f6b6435d0       [16, 0]\n",
       "1  000a6c98-bb9b-11e8-b2b9-ac1f6b6435d0  [7, 1, 2, 0]\n",
       "2  000a9596-bbc4-11e8-b2bc-ac1f6b6435d0           [5]\n",
       "3  000c99ba-bba4-11e8-b2b9-ac1f6b6435d0           [1]\n",
       "4  001838f8-bbca-11e8-b2bc-ac1f6b6435d0          [18]"
      ]
     },
     "execution_count": 48,
     "metadata": {},
     "output_type": "execute_result"
    }
   ],
   "source": [
    "labels_df = all_labels_df\n",
    "labels_df.head()"
   ]
  },
  {
   "cell_type": "code",
   "execution_count": 49,
   "metadata": {},
   "outputs": [],
   "source": [
    "msss = MultilabelStratifiedShuffleSplit(n_splits=1, test_size=0.1, random_state=42)"
   ]
  },
  {
   "cell_type": "code",
   "execution_count": 50,
   "metadata": {},
   "outputs": [],
   "source": [
    "one_hots = make_one_hot(labels_df['Target'])"
   ]
  },
  {
   "cell_type": "code",
   "execution_count": 51,
   "metadata": {},
   "outputs": [
    {
     "data": {
      "text/plain": [
       "105678"
      ]
     },
     "execution_count": 51,
     "metadata": {},
     "output_type": "execute_result"
    }
   ],
   "source": [
    "len(one_hots)"
   ]
  },
  {
   "cell_type": "code",
   "execution_count": 52,
   "metadata": {},
   "outputs": [],
   "source": [
    "train_idx, val_idx = list(msss.split(X=labels_df['Id'], y=one_hots))[0]"
   ]
  },
  {
   "cell_type": "code",
   "execution_count": 53,
   "metadata": {},
   "outputs": [
    {
     "data": {
      "text/plain": [
       "(95093,)"
      ]
     },
     "execution_count": 53,
     "metadata": {},
     "output_type": "execute_result"
    }
   ],
   "source": [
    "train_idx.shape"
   ]
  },
  {
   "cell_type": "code",
   "execution_count": 56,
   "metadata": {},
   "outputs": [
    {
     "data": {
      "text/plain": [
       "[(0, 0.2483644277349935),\n",
       " (1, 0.018629690268766128),\n",
       " (2, 0.06592147905591603),\n",
       " (3, 0.020186094772232665),\n",
       " (4, 0.03110787702383118),\n",
       " (5, 0.0360061717165592),\n",
       " (6, 0.022584709504847762),\n",
       " (7, 0.057027739036107236),\n",
       " (8, 0.0013138479574717522),\n",
       " (9, 0.0011925696844743597),\n",
       " (10, 0.0011049798206429096),\n",
       " (11, 0.013306921620547234),\n",
       " (12, 0.013542740484708831),\n",
       " (13, 0.008839838565143277),\n",
       " (14, 0.01632540308181567),\n",
       " (15, 0.000384047864491743),\n",
       " (16, 0.007822448608331818),\n",
       " (17, 0.002701810415108578),\n",
       " (18, 0.011481009843753158),\n",
       " (19, 0.022268038458687904),\n",
       " (20, 0.0026546466422762583),\n",
       " (21, 0.08373590982286634),\n",
       " (22, 0.01654774658231089),\n",
       " (23, 0.06272781786698468),\n",
       " (24, 0.0025940075057775624),\n",
       " (25, 0.22658150236829516),\n",
       " (26, 0.004278427964074681),\n",
       " (27, 0.000768095728983486)]"
      ]
     },
     "execution_count": 56,
     "metadata": {},
     "output_type": "execute_result"
    }
   ],
   "source": [
    "single_class_counter(labels_df['Target'].iloc[train_idx].values)"
   ]
  },
  {
   "cell_type": "code",
   "execution_count": 57,
   "metadata": {},
   "outputs": [
    {
     "data": {
      "text/plain": [
       "[(0, 0.24833272705226142),\n",
       " (1, 0.018612828907481508),\n",
       " (2, 0.06590275251606645),\n",
       " (3, 0.020189159694434338),\n",
       " (4, 0.031102218988723174),\n",
       " (5, 0.03601309567115315),\n",
       " (6, 0.02261428398205408),\n",
       " (7, 0.057051048866254395),\n",
       " (8, 0.0013338183581908573),\n",
       " (9, 0.0012125621438098702),\n",
       " (10, 0.0010913059294288831),\n",
       " (11, 0.013277555474718079),\n",
       " (12, 0.013520067903480053),\n",
       " (13, 0.008851703649812052),\n",
       " (14, 0.016308960834242756),\n",
       " (15, 0.0003637686431429611),\n",
       " (16, 0.007821025827573663),\n",
       " (17, 0.002728264823572208),\n",
       " (18, 0.011458712259003273),\n",
       " (19, 0.02225051533891112),\n",
       " (20, 0.0026676367163817145),\n",
       " (21, 0.08372741603007154),\n",
       " (22, 0.01655147326300473),\n",
       " (23, 0.06275009094216079),\n",
       " (24, 0.002607008609191221),\n",
       " (25, 0.22656723657087427),\n",
       " (26, 0.004304595610525039),\n",
       " (27, 0.0007881653934764157)]"
      ]
     },
     "execution_count": 57,
     "metadata": {},
     "output_type": "execute_result"
    }
   ],
   "source": [
    "single_class_counter(labels_df['Target'].iloc[val_idx].values)"
   ]
  },
  {
   "cell_type": "markdown",
   "metadata": {},
   "source": [
    "#### Now we see that the data distribution is quite even, now lets use a weighted sampler"
   ]
  },
  {
   "cell_type": "code",
   "execution_count": 73,
   "metadata": {},
   "outputs": [],
   "source": [
    "import torch\n",
    "import torch.utils.data\n",
    "from torch.utils.data import WeightedRandomSampler\n",
    "from src.data import ProteinClassificationDataset\n",
    "from functools import reduce\n",
    "import math"
   ]
  },
  {
   "cell_type": "code",
   "execution_count": 329,
   "metadata": {},
   "outputs": [],
   "source": [
    "def mean_proportion_class_weights(all_labels, smooth=0):\n",
    "    all_weights = []\n",
    "    label_proportions = single_class_counter(all_labels, smooth=smooth)\n",
    "    weight_lookup = {label: 1 / prop for label, prop in label_proportions}\n",
    "    for labels in all_labels:\n",
    "        weights = np.array([weight_lookup[l] for l in labels]).mean()\n",
    "        all_weights.append(weights)\n",
    "    return all_weights\n",
    "\n",
    "def mean_proportion_squared_class_weights(all_labels, smooth=0, power=1.5):\n",
    "    all_weights = []\n",
    "    label_proportions = single_class_counter(all_labels, smooth=smooth)\n",
    "    weight_lookup = {label: (1 / prop) ** power for label, prop in label_proportions}\n",
    "    for labels in all_labels:\n",
    "        weights = np.array([weight_lookup[l] for l in labels]).mean()\n",
    "        all_weights.append(weights)\n",
    "    return all_weights"
   ]
  },
  {
   "cell_type": "code",
   "execution_count": 330,
   "metadata": {},
   "outputs": [],
   "source": [
    "# labels_df = kaggle_labels_df\n",
    "# train_paths = np.array(list(DataPaths.TRAIN_COMBINED_IMAGES.glob(\"*\")))\n",
    "\n",
    "# labels_df = hpa_labels_df\n",
    "# train_paths = np.array(list(DataPaths.TRAIN_COMBINED_HPA_V18_IMAGES.glob(\"*\")))\n",
    "\n",
    "labels_df = all_labels_df\n",
    "train_paths = np.array(sorted(list(DataPaths.TRAIN_ALL_COMBINED_IMAGES.glob(\"*\")), key=lambda p: p.stem))"
   ]
  },
  {
   "cell_type": "code",
   "execution_count": 331,
   "metadata": {},
   "outputs": [],
   "source": [
    "labels_df = labels_df.sort_values([\"Id\"], ascending=[True])\n",
    "labels = labels_df['Target'].values\n",
    "train_labels_one_hot = make_one_hot(labels_df['Target'])\n",
    "assert np.all(np.array([p.stem for p in train_paths]) == labels_df[\"Id\"])\n",
    "\n",
    "train_idx, val_idx = list(msss.split(X=labels_df['Id'], y=train_labels_one_hot))[0]\n",
    "# weights = np.array(mean_proportion_class_weights(labels[train_idx]))\n",
    "weights = np.array(mean_proportion_squared_class_weights(labels[train_idx], smooth=0, power=1))\n",
    "assert np.all(np.array([p.stem for p in train_paths]) == labels_df[\"Id\"])"
   ]
  },
  {
   "cell_type": "code",
   "execution_count": 332,
   "metadata": {},
   "outputs": [
    {
     "data": {
      "text/plain": [
       "1307.8922064777328"
      ]
     },
     "execution_count": 332,
     "metadata": {},
     "output_type": "execute_result"
    }
   ],
   "source": [
    "max(weights)"
   ]
  },
  {
   "cell_type": "code",
   "execution_count": 333,
   "metadata": {},
   "outputs": [
    {
     "data": {
      "text/plain": [
       "4.026341489881179"
      ]
     },
     "execution_count": 333,
     "metadata": {},
     "output_type": "execute_result"
    }
   ],
   "source": [
    "min(weights)"
   ]
  },
  {
   "cell_type": "code",
   "execution_count": 334,
   "metadata": {},
   "outputs": [],
   "source": [
    "# sampler = WeightedRandomSampler(weights, num_samples=len(weights))\n",
    "sampler = WeightedRandomSampler(weights, num_samples=len(weights))"
   ]
  },
  {
   "cell_type": "code",
   "execution_count": 335,
   "metadata": {},
   "outputs": [],
   "source": [
    "ds = ProteinClassificationDataset(train_paths[train_idx], labels=make_one_hot(labels[train_idx]))\n",
    "dl = torch.utils.data.DataLoader(ds, batch_size=64, sampler=sampler, collate_fn=ds.collate_fn)\n",
    "no_sampler_dl = torch.utils.data.DataLoader(ds, batch_size=64, collate_fn=ds.collate_fn)"
   ]
  },
  {
   "cell_type": "code",
   "execution_count": 336,
   "metadata": {},
   "outputs": [
    {
     "data": {
      "text/plain": [
       "95125"
      ]
     },
     "execution_count": 336,
     "metadata": {},
     "output_type": "execute_result"
    }
   ],
   "source": [
    "len(dl.dataset)"
   ]
  },
  {
   "cell_type": "code",
   "execution_count": 337,
   "metadata": {},
   "outputs": [],
   "source": [
    "# cnt = Counter()\n",
    "# for x, y in tqdm_notebook(no_sampler_dl):\n",
    "#     for l in np.where(y['label'].data.numpy() == 1)[1]:\n",
    "#         cnt[l] += 1"
   ]
  },
  {
   "cell_type": "code",
   "execution_count": 338,
   "metadata": {},
   "outputs": [],
   "source": [
    "# cnt"
   ]
  },
  {
   "cell_type": "code",
   "execution_count": 339,
   "metadata": {},
   "outputs": [],
   "source": [
    "label_cnt = Counter()\n",
    "name_cnt = Counter()\n",
    "n_samples = 100000\n",
    "for idx in np.random.choice(train_idx, n_samples, p=weights/weights.sum()):\n",
    "    r = labels_df.iloc[idx]\n",
    "    labels = r['Target']\n",
    "    for l in labels:\n",
    "        label_cnt[l] += 1\n",
    "    name_cnt[r['Id']] += 1\n",
    "    \n",
    "# for x, y in tqdm_notebook(dl):\n",
    "#     for l in np.where(y['label'].data.numpy() == 1)[1]:\n",
    "#         label_cnt[l] += 1\n",
    "#     for n in y['name']:\n",
    "#         name_cnt[n] += 1"
   ]
  },
  {
   "cell_type": "code",
   "execution_count": 340,
   "metadata": {},
   "outputs": [
    {
     "name": "stdout",
     "output_type": "stream",
     "text": [
      "[(0, 0.11371778716675314),\n",
      " (1, 0.02472018382625454),\n",
      " (2, 0.04407876856175722),\n",
      " (3, 0.030427692535764585),\n",
      " (4, 0.03521483458107874),\n",
      " (5, 0.03162602228646258),\n",
      " (6, 0.03506658760161095),\n",
      " (7, 0.03689496701504707),\n",
      " (8, 0.031700145776196474),\n",
      " (9, 0.03394238134064685),\n",
      " (10, 0.029254070614977888),\n",
      " (11, 0.028488127887727623),\n",
      " (12, 0.025331702616559187),\n",
      " (13, 0.022348232154769845),\n",
      " (14, 0.03260198156795888),\n",
      " (15, 0.015077953203370149),\n",
      " (16, 0.02594939836434166),\n",
      " (17, 0.016653077360215453),\n",
      " (18, 0.02880315271909668),\n",
      " (19, 0.02812368739653596),\n",
      " (20, 0.026888295900971016),\n",
      " (21, 0.05499962938255133),\n",
      " (22, 0.02727126726459615),\n",
      " (23, 0.03873570034343884),\n",
      " (24, 0.022805327008128876),\n",
      " (25, 0.11857287574432337),\n",
      " (26, 0.020563091443678502),\n",
      " (27, 0.020143058335186422)]\n"
     ]
    }
   ],
   "source": [
    "from pprint import pprint\n",
    "pprint(sorted({k: v/sum(label_cnt.values()) for k, v in label_cnt.items()}.items()))"
   ]
  },
  {
   "cell_type": "code",
   "execution_count": 341,
   "metadata": {},
   "outputs": [
    {
     "data": {
      "text/plain": [
       "[<matplotlib.lines.Line2D object at 0x7f2c863009e8>]"
      ]
     },
     "execution_count": 341,
     "metadata": {},
     "output_type": "execute_result"
    },
    {
     "data": {
      "image/png": "[encoded data removed]",
      "text/plain": [
       "<Figure size 432x288 with 1 Axes>"
      ]
     },
     "metadata": {
      "needs_background": "light"
     },
     "output_type": "display_data"
    }
   ],
   "source": [
    "plt.plot(name_cnt.values())"
   ]
  },
  {
   "cell_type": "code",
   "execution_count": 353,
   "metadata": {},
   "outputs": [],
   "source": [
    "from functools import partial\n",
    "foo = partial(partial(partial(lambda x, y, z: x+y+z, x=3), y=4), z=5)"
   ]
  },
  {
   "cell_type": "code",
   "execution_count": 373,
   "metadata": {},
   "outputs": [],
   "source": [
    "x = dict(a=[1,2,3], b=[4, 5, 6])"
   ]
  },
  {
   "cell_type": "code",
   "execution_count": 374,
   "metadata": {},
   "outputs": [],
   "source": [
    "(k, v) = zip(*(x.items()))"
   ]
  },
  {
   "cell_type": "code",
   "execution_count": 375,
   "metadata": {},
   "outputs": [
    {
     "data": {
      "text/plain": [
       "('a', 'b')"
      ]
     },
     "execution_count": 375,
     "metadata": {},
     "output_type": "execute_result"
    }
   ],
   "source": [
    "k"
   ]
  },
  {
   "cell_type": "code",
   "execution_count": 376,
   "metadata": {},
   "outputs": [
    {
     "data": {
      "text/plain": [
       "([1, 2, 3], [4, 5, 6])"
      ]
     },
     "execution_count": 376,
     "metadata": {},
     "output_type": "execute_result"
    }
   ],
   "source": [
    "vSD"
   ]
  },
  {
   "cell_type": "code",
   "execution_count": 381,
   "metadata": {},
   "outputs": [
    {
     "name": "stdout",
     "output_type": "stream",
     "text": [
      "a 1\n",
      "b 4\n",
      "a 2\n",
      "b 5\n",
      "a 3\n",
      "b 6\n"
     ]
    }
   ],
   "source": [
    "for sample_values in list(zip(*v)):\n",
    "    for name, value in zip(k, sample_values):\n",
    "        print(name, value)"
   ]
  },
  {
   "cell_type": "code",
   "execution_count": null,
   "metadata": {},
   "outputs": [],
   "source": []
  }
 ],
 "metadata": {
  "kernelspec": {
   "display_name": "Python [conda env:pytorch-toolbox]",
   "language": "python",
   "name": "conda-env-pytorch-toolbox-py"
  },
  "language_info": {
   "codemirror_mode": {
    "name": "ipython",
    "version": 3
   },
   "file_extension": ".py",
   "mimetype": "text/x-python",
   "name": "python",
   "nbconvert_exporter": "python",
   "pygments_lexer": "ipython3",
   "version": "3.7.0"
  }
 },
 "nbformat": 4,
 "nbformat_minor": 2
}
